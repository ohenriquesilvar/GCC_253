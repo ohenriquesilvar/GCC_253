{
  "nbformat": 4,
  "nbformat_minor": 0,
  "metadata": {
    "colab": {
      "name": "EFC1_GCC_253.ipynb",
      "provenance": [],
      "collapsed_sections": [
        "0QpgUjPo-RqU",
        "nEw1UEsmoKMg",
        "9a-wJwU-wtmQ",
        "8dWpeYUvw-wU",
        "zNI1kX0yyDrs",
        "vk4vOTkKyLB-",
        "fFiGho5CyU3t"
      ],
      "include_colab_link": true
    },
    "kernelspec": {
      "name": "python3",
      "display_name": "Python 3"
    },
    "language_info": {
      "name": "python"
    }
  },
  "cells": [
    {
      "cell_type": "markdown",
      "metadata": {
        "id": "view-in-github",
        "colab_type": "text"
      },
      "source": [
        "<a href=\"https://colab.research.google.com/github/ohenriquesilvar/GCC_253/blob/main/EFC1_GCC_253.ipynb\" target=\"_parent\"><img src=\"https://colab.research.google.com/assets/colab-badge.svg\" alt=\"Open In Colab\"/></a>"
      ]
    },
    {
      "cell_type": "markdown",
      "source": [
        "# EFC1 GCC253 - Complexidade e Projeto de Algoritmos\n",
        "\n",
        "\n",
        "> **Prof.: Douglas H. S. Abreu**\n",
        "\n",
        "\n",
        "**Aluno**: Henrique Silva Rabelo\n",
        "\n",
        "**Matricula**: 202010698\n",
        "\n",
        "**Turma**: 10A, 14A\n",
        "\n",
        "Link do repositório GitHub: \n",
        "\n",
        "● O trabalho deve ser feito em grupos de no máximo 2 componentes (todos devem enviar a atividade no Campus Virtual)\n",
        "\n",
        "● Trabalhos entregues após a data limite não serão aceitos\n",
        "\n",
        "● Data limite de entrega: 24 de Julho de 2022 : 23h55m\n",
        "\n",
        "● Enviar o trabalho para o campus virtual, do seguinte modo: link do repositório GitHub e do Colab para acesso ao Notebook. A Documentação deve estar no readme\n",
        "\n",
        "● O trabalho deve ser desenvolvido no modelo Notebook utilizando a linguagem Python"
      ],
      "metadata": {
        "id": "XAdlKnDBj5uB"
      }
    },
    {
      "cell_type": "markdown",
      "source": [
        "# Importações e Variáveis globais"
      ],
      "metadata": {
        "id": "J3d6JlRUxREN"
      }
    },
    {
      "cell_type": "code",
      "source": [
        "import matplotlib.pyplot as plt\n",
        "import numpy as np\n",
        "import time\n",
        "\n",
        "global_1=0"
      ],
      "metadata": {
        "id": "Ur1DVGQAxac4"
      },
      "execution_count": 118,
      "outputs": []
    },
    {
      "cell_type": "markdown",
      "source": [
        "## Demais Funções"
      ],
      "metadata": {
        "id": "uc01rsOXj7zA"
      }
    },
    {
      "cell_type": "markdown",
      "source": [
        "\n",
        "### Função para gerar arranjos aleatórios"
      ],
      "metadata": {
        "id": "0QpgUjPo-RqU"
      }
    },
    {
      "cell_type": "code",
      "execution_count": 39,
      "metadata": {
        "id": "aQuHEHiY9lTz"
      },
      "outputs": [],
      "source": [
        "def gera_arranjos_aleatorio(n_elementos):\n",
        "  A= np.random.randint(0, 100, n_elementos)\n",
        "  return A"
      ]
    },
    {
      "cell_type": "code",
      "source": [
        "def tempo(algoritmo, arranjo):\n",
        "  aux = 0\n",
        "  ini= time.time()\n",
        "  if(algoritmo == mergeSort):\n",
        "    aux= algoritmo(arranjo, 0 , len(arranjo)-1)\n",
        "  elif(algoritmo == quickSort):\n",
        "    aux= algoritmo(0, len(arranjo)-1, arranjo)\n",
        "  else:    \n",
        "    aux=algoritmo(arranjo)\n",
        "  fim = time.time()\n",
        "  tempo_exec=fim-ini\n",
        "  return aux, tempo_exec\n"
      ],
      "metadata": {
        "id": "6BWxb29d818B"
      },
      "execution_count": 64,
      "outputs": []
    },
    {
      "cell_type": "markdown",
      "source": [
        "# Funções de Ordenação\n",
        "\n",
        "> Utilize este espaço para definir as funções de ordenação vista em sala de aula\n",
        "\n"
      ],
      "metadata": {
        "id": "kPNpzNYwkKAO"
      }
    },
    {
      "cell_type": "markdown",
      "source": [
        "##  Insertion Sort\n"
      ],
      "metadata": {
        "id": "nEw1UEsmoKMg"
      }
    },
    {
      "cell_type": "code",
      "source": [
        "def insertionSort(arranjo):\n",
        "  ini= time.time()\n",
        "  for j in range (1,len(arranjo)):\n",
        "    chave=arranjo[j]\n",
        "    i=j-1\n",
        "    while i>=0 and arranjo[i]>chave:\n",
        "      arranjo[i+1]=arranjo[i]\n",
        "      i=i-1\n",
        "    arranjo[i+1]=chave\n",
        "  fim = time.time()\n",
        "  tempo_exec=fim-ini\n",
        "  return arranjo \n",
        "\n",
        "  #print('A[i..j-1] invariante de loop:', arranjo[:j])"
      ],
      "metadata": {
        "id": "kbOrhdB-j_px"
      },
      "execution_count": 3,
      "outputs": []
    },
    {
      "cell_type": "markdown",
      "source": [
        "##  Merge Sort\n"
      ],
      "metadata": {
        "id": "9a-wJwU-wtmQ"
      }
    },
    {
      "cell_type": "code",
      "source": [
        "def merge(arr, l, m, r):\n",
        "    n1 = m - l + 1\n",
        "    n2 = r - m\n",
        " \n",
        "    L = [0] * (n1)\n",
        "    R = [0] * (n2)\n",
        " \n",
        "    for i in range(0, n1):\n",
        "        L[i] = arr[l + i]\n",
        " \n",
        "    for j in range(0, n2):\n",
        "        R[j] = arr[m + 1 + j]\n",
        " \n",
        "    i = 0     # Initial index of first subarray\n",
        "    j = 0     # Initial index of second subarray\n",
        "    k = l     # Initial index of merged subarray\n",
        " \n",
        "    while i < n1 and j < n2:\n",
        "        if L[i] <= R[j]:\n",
        "            arr[k] = L[i]\n",
        "            i += 1\n",
        "        else:\n",
        "            arr[k] = R[j]\n",
        "            j += 1\n",
        "        k += 1\n",
        " \n",
        "    while i < n1:\n",
        "        arr[k] = L[i]\n",
        "        i += 1\n",
        "        k += 1\n",
        " \n",
        "    while j < n2:\n",
        "        arr[k] = R[j]\n",
        "        j += 1\n",
        "        k += 1\n",
        "\n",
        " \n",
        "def mergeSort(arr, l , r):\n",
        "    if l < r:\n",
        " \n",
        "        m = l+(r-l)//2\n",
        " \n",
        "        mergeSort(arr, l, m)\n",
        "        mergeSort(arr, m+1, r)\n",
        "        merge(arr, l, m, r)\n",
        "    return arr    "
      ],
      "metadata": {
        "id": "8cgIJ_4EwbPN"
      },
      "execution_count": 58,
      "outputs": []
    },
    {
      "cell_type": "markdown",
      "source": [
        "##  Selection Sort\n"
      ],
      "metadata": {
        "id": "8dWpeYUvw-wU"
      }
    },
    {
      "cell_type": "code",
      "source": [
        "def selectionSort(array):\n",
        "\tlength = len(array)\n",
        "\n",
        "\tfor item in range(length):\n",
        "\t\tminimum = item\n",
        "\n",
        "\t\tfor i in range(item + 1, length):\n",
        "\t\t\tif array[i] < array[minimum]:\n",
        "\t\t\t\tminimum = i\n",
        "\n",
        "\t\t(array[item], array[minimum]) = (array[minimum], array[item])\n",
        "\t\t\n",
        "\t\treturn array\n",
        "\n",
        "a = selectionSort(gera_arranjos_aleatorio(10))\n",
        "a"
      ],
      "metadata": {
        "id": "vNgUDShawygu",
        "colab": {
          "base_uri": "https://localhost:8080/"
        },
        "outputId": "4a753a32-e45c-4bb8-d58d-ef2bb0c3e6bf"
      },
      "execution_count": 33,
      "outputs": [
        {
          "output_type": "execute_result",
          "data": {
            "text/plain": [
              "array([ 9, 25, 35, 22, 66, 90, 76, 61, 22, 26])"
            ]
          },
          "metadata": {},
          "execution_count": 33
        }
      ]
    },
    {
      "cell_type": "markdown",
      "source": [
        "##  Bubble Sort\n"
      ],
      "metadata": {
        "id": "zNI1kX0yyDrs"
      }
    },
    {
      "cell_type": "code",
      "source": [
        "def bubbleSort(array):\n",
        "  size = len(array)\n",
        "  for i in range(size -1):\n",
        "    for j in range (size -1):\n",
        "        if array[j] > array[j + 1]:\n",
        "            array[j], array[j + 1] = array[j + 1], array[j]\n",
        "            swapped = True\n",
        "    if not swapped:\n",
        "        break\n",
        "  return array"
      ],
      "metadata": {
        "id": "6X_zk1yWxMQS"
      },
      "execution_count": 79,
      "outputs": []
    },
    {
      "cell_type": "markdown",
      "source": [
        "## Heap Sort"
      ],
      "metadata": {
        "id": "vk4vOTkKyLB-"
      }
    },
    {
      "cell_type": "code",
      "source": [
        "def heapify(arr, n, i):\n",
        "    largest = i \n",
        "    l = 2 * i + 1\n",
        "    r = 2 * i + 2 \n",
        "  \n",
        "    if l < n and arr[largest] < arr[l]:\n",
        "        largest = l\n",
        "  \n",
        "    if r < n and arr[largest] < arr[r]:\n",
        "        largest = r\n",
        "\n",
        "    if largest != i:\n",
        "        arr[i], arr[largest] = arr[largest], arr[i] \n",
        "\n",
        "        heapify(arr, n, largest)\n",
        "  \n",
        "def heapSort(arr):\n",
        "    n = len(arr)\n",
        "  \n",
        "    for i in range(n//2 - 1, -1, -1):\n",
        "        heapify(arr, n, i)\n",
        "  \n",
        "    for i in range(n-1, 0, -1):\n",
        "        arr[i], arr[0] = arr[0], arr[i]\n",
        "        heapify(arr, i, 0)\n",
        "    return arr"
      ],
      "metadata": {
        "id": "39a7xXzLyH9g"
      },
      "execution_count": 85,
      "outputs": []
    },
    {
      "cell_type": "markdown",
      "source": [
        "## Quick Sort\n",
        "\n"
      ],
      "metadata": {
        "id": "fFiGho5CyU3t"
      }
    },
    {
      "cell_type": "code",
      "source": [
        "def partition(l, r, nums):\n",
        "    pivot, ptr = nums[r], l\n",
        "    for i in range(l, r):\n",
        "        if nums[i] <= pivot:\n",
        "            nums[i], nums[ptr] = nums[ptr], nums[i]\n",
        "            ptr += 1\n",
        "\n",
        "    nums[ptr], nums[r] = nums[r], nums[ptr]\n",
        "    return ptr\n",
        " \n",
        "def quickSort(l, r, nums):\n",
        "    if len(nums) == 1:\n",
        "        return nums\n",
        "    if l < r:\n",
        "        pi = partition(l, r, nums)\n",
        "        quickSort(l, pi-1, nums)\n",
        "        quickSort(pi+1, r, nums)\n",
        "    return nums"
      ],
      "metadata": {
        "id": "1Ie_N5CRyKY7"
      },
      "execution_count": 62,
      "outputs": []
    },
    {
      "cell_type": "markdown",
      "source": [
        "## Main"
      ],
      "metadata": {
        "id": "L-hVALmDjps2"
      }
    },
    {
      "cell_type": "code",
      "source": [
        "Ab=np.arange(50)\n",
        "Ab"
      ],
      "metadata": {
        "id": "neyG5-MiCpDQ",
        "colab": {
          "base_uri": "https://localhost:8080/"
        },
        "outputId": "515c79d3-1907-4b35-af08-9f09abcfd505"
      },
      "execution_count": 129,
      "outputs": [
        {
          "output_type": "execute_result",
          "data": {
            "text/plain": [
              "array([ 0,  1,  2,  3,  4,  5,  6,  7,  8,  9, 10, 11, 12, 13, 14, 15, 16,\n",
              "       17, 18, 19, 20, 21, 22, 23, 24, 25, 26, 27, 28, 29, 30, 31, 32, 33,\n",
              "       34, 35, 36, 37, 38, 39, 40, 41, 42, 43, 44, 45, 46, 47, 48, 49])"
            ]
          },
          "metadata": {},
          "execution_count": 129
        }
      ]
    },
    {
      "cell_type": "markdown",
      "source": [
        ""
      ],
      "metadata": {
        "id": "cwyUi0DH80di"
      }
    },
    {
      "cell_type": "code",
      "source": [
        "methods = [insertionSort, selectionSort, mergeSort, quickSort, bubbleSort, heapSort]\n",
        "# methods = [insertionSort]\n",
        "plot = []\n",
        "for j in range(len(methods)):\n",
        "  xArr = []\n",
        "  yArr = []\n",
        "  for i in range(len(Ab)):\n",
        "    Array = gera_arranjos_aleatorio(5*i)\n",
        "    ordena = tempo(insertionSort,Array)\n",
        "    xArr.append(5*i) \n",
        "    yArr.append(ordena[1])\n",
        "  plot.append([xArr, yArr])\n",
        "\n",
        "\n",
        "plt.ylabel('Y - tempo de execução')\n",
        "plt.xlabel('X - tamanho array')\n",
        "plt.plot(plot[0][0], plot[0][1], color=\"r\", label=\"Insertion\")\n",
        "plt.plot(plot[1][0], plot[1][1], color=\"y\", label=\"Selection\")\n",
        "plt.plot(plot[2][0], plot[2][1], color=\"g\", label=\"Merge\")\n",
        "plt.plot(plot[3][0], plot[3][1], color=\"b\", label=\"Quick\")\n",
        "plt.plot(plot[4][0], plot[4][1], color=\"c\", label=\"Bubble\")\n",
        "plt.plot(plot[5][0], plot[5][1], color=\"k\", label=\"Heap\")\n",
        "plt.show()\n"
      ],
      "metadata": {
        "colab": {
          "base_uri": "https://localhost:8080/",
          "height": 279
        },
        "id": "7T5ybT6MocRr",
        "outputId": "cdbdb765-0f0a-4104-acc2-f7c75d153c12"
      },
      "execution_count": 130,
      "outputs": [
        {
          "output_type": "display_data",
          "data": {
            "text/plain": [
              "<Figure size 432x288 with 1 Axes>"
            ],
            "image/png": "[encoded data removed]"
          },
          "metadata": {
            "needs_background": "light"
          }
        }
      ]
    },
    {
      "cell_type": "markdown",
      "source": [
        "# Questões"
      ],
      "metadata": {
        "id": "VomdAnCrzEv1"
      }
    },
    {
      "cell_type": "markdown",
      "source": [
        "\n",
        "\n",
        "1.   Dado um conjunto de arranjos ***A[5,...,1000, passo=5]***\n",
        "\n",
        "> a) Defina o melhor e pior caso para cada um dos algoritmos definidos acima, crie vetores ***A*** para estes casos e faça a comparação gráficamente também com casos aleatórios (plote um gráfico para cada algoritmo). Conte o numero de comparações realzizadas para cada uma das execuções.\n",
        "\n",
        "> b) Repita o procedimento acima. Porém compare os algoritmos para pior e melhor caso e também casos aleatórios.\n",
        "\n",
        "> c) Qual é o comportamento assintótico para cada um dos algorítmos acima (melhor caso e pior caso, se puder, analise também em casos aleatórios)\n",
        "\n",
        "\n",
        "\n",
        "**Obs.:** para os algoritmos QuickSort e Merge Sort mostre apenas um melhor e um pior caso. faça a comparação com os demais métodos com o conjunto ***A*** apenas em casos aleatórios.\n",
        "\n",
        "\n",
        "\n"
      ],
      "metadata": {
        "id": "3QKV979kzItD"
      }
    },
    {
      "cell_type": "markdown",
      "source": [
        "2.   Desenvolda uma versão aleatorizada do QUICKSORT (pivo aleatório) e compare com a versão apresentada em sala de aula e definida acima.\n",
        "\n"
      ],
      "metadata": {
        "id": "9hhEkQam21NC"
      }
    }
  ]
}